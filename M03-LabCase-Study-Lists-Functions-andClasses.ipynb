{
 "cells": [
  {
   "attachments": {},
   "cell_type": "markdown",
   "metadata": {},
   "source": [
    "Author: Mason West\n",
    "Date: April 4, 2023\n",
    "Description: This program creates a class hierarchy with a base class 'Vehicle' and a derived class 'Automobile'. The 'Automobile' class inherits from the 'Vehicle' class and has attributes for the year, make, model, number of doors, and type of roof. The program prompts the user to input values for these attributes and then creates an instance of the 'Automobile' class with the inputted values. Finally, the program prints out the attributes of the created instance using the str method."
   ]
  },
  {
   "cell_type": "code",
   "execution_count": null,
   "metadata": {},
   "outputs": [],
   "source": [
    "class Vehicle:\n",
    "    def __init__(self, vehicle_type):\n",
    "        self.vehicle_type = vehicle_type\n",
    "\n",
    "class Automobile(Vehicle):\n",
    "    def __init__(self, year, make, model, doors, roof):\n",
    "        Vehicle.__init__(self, 'car')\n",
    "        self.year = year\n",
    "        self.make = make\n",
    "        self.model = model\n",
    "        self.doors = doors\n",
    "        self.roof = roof\n",
    "\n",
    "    def __str__(self):\n",
    "        return f\"Vehicle type: {self.vehicle_type}\\n\" \\\n",
    "               f\"Year: {self.year}\\n\" \\\n",
    "               f\"Make: {self.make}\\n\" \\\n",
    "               f\"Model: {self.model}\\n\" \\\n",
    "               f\"Number of doors: {self.doors}\\n\" \\\n",
    "               f\"Type of roof: {self.roof}\"\n",
    "               \n",
    "\n",
    "year = input(\"Enter the year of the car: \")\n",
    "make = input(\"Enter the make of the car: \")\n",
    "model = input(\"Enter the model of the car: \")\n",
    "doors = input(\"Enter the number of doors (2 or 4): \")\n",
    "roof = input(\"Enter the type of roof (solid or sun roof): \")\n",
    "\n",
    "car = Automobile(year, make, model, doors, roof)\n",
    "print(car)\n"
   ]
  }
 ],
 "metadata": {
  "language_info": {
   "name": "python"
  },
  "orig_nbformat": 4
 },
 "nbformat": 4,
 "nbformat_minor": 2
}
